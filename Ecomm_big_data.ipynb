{
 "cells": [
  {
   "cell_type": "code",
   "execution_count": 0,
   "metadata": {
    "application/vnd.databricks.v1+cell": {
     "cellMetadata": {
      "byteLimit": 2048000,
      "rowLimit": 10000
     },
     "inputWidgets": {},
     "nuid": "5e9d7f22-3a69-4632-9e09-32ed13d6a5fa",
     "showTitle": false,
     "tableResultSettingsMap": {},
     "title": ""
    }
   },
   "outputs": [
    {
     "output_type": "execute_result",
     "data": {
      "text/html": [
       "\n",
       "            <div>\n",
       "                <p><b>SparkSession - hive</b></p>\n",
       "                \n",
       "        <div>\n",
       "            <p><b>SparkContext</b></p>\n",
       "\n",
       "            <p><a href=\"/?o=3529977200421214#setting/sparkui/1219-172904-zirtmbvs/driver-1428337735301981361\">Spark UI</a></p>\n",
       "\n",
       "            <dl>\n",
       "              <dt>Version</dt>\n",
       "                <dd><code>v3.5.2</code></dd>\n",
       "              <dt>Master</dt>\n",
       "                <dd><code>local[*, 4]</code></dd>\n",
       "              <dt>AppName</dt>\n",
       "                <dd><code>Databricks Shell</code></dd>\n",
       "            </dl>\n",
       "        </div>\n",
       "        \n",
       "            </div>\n",
       "        "
      ],
      "text/plain": [
       "<pyspark.sql.session.SparkSession at 0x7ffa4160b680>"
      ]
     },
     "execution_count": 1,
     "metadata": {},
     "output_type": "execute_result"
    }
   ],
   "source": [
    "spark"
   ]
  },
  {
   "cell_type": "markdown",
   "metadata": {
    "application/vnd.databricks.v1+cell": {
     "cellMetadata": {},
     "inputWidgets": {},
     "nuid": "4773aa8d-357a-46b9-9480-2ab525a5c8a0",
     "showTitle": false,
     "tableResultSettingsMap": {},
     "title": ""
    }
   },
   "source": [
    "FileStore/tables/ecommerce_dataset.csv"
   ]
  },
  {
   "cell_type": "code",
   "execution_count": 0,
   "metadata": {
    "application/vnd.databricks.v1+cell": {
     "cellMetadata": {
      "byteLimit": 2048000,
      "rowLimit": 10000
     },
     "inputWidgets": {},
     "nuid": "7ef7f2b7-0002-4921-9117-ce2c589a5ad9",
     "showTitle": false,
     "tableResultSettingsMap": {},
     "title": ""
    }
   },
   "outputs": [
    {
     "output_type": "display_data",
     "data": {
      "text/html": [
       "<style scoped>\n",
       "  .table-result-container {\n",
       "    max-height: 300px;\n",
       "    overflow: auto;\n",
       "  }\n",
       "  table, th, td {\n",
       "    border: 1px solid black;\n",
       "    border-collapse: collapse;\n",
       "  }\n",
       "  th, td {\n",
       "    padding: 5px;\n",
       "  }\n",
       "  th {\n",
       "    text-align: left;\n",
       "  }\n",
       "</style><div class='table-result-container'><table class='table-result'><thead style='background-color: white'><tr><th>path</th><th>name</th><th>size</th><th>modificationTime</th></tr></thead><tbody><tr><td>dbfs:/FileStore/tables/ecommerce_dataset.csv</td><td>ecommerce_dataset.csv</td><td>10405498</td><td>1734629826000</td></tr></tbody></table></div>"
      ]
     },
     "metadata": {
      "application/vnd.databricks.v1+output": {
       "addedWidgets": {},
       "aggData": [],
       "aggError": "",
       "aggOverflow": false,
       "aggSchema": [],
       "aggSeriesLimitReached": false,
       "aggType": "",
       "arguments": {},
       "columnCustomDisplayInfos": {},
       "data": [
        [
         "dbfs:/FileStore/tables/ecommerce_dataset.csv",
         "ecommerce_dataset.csv",
         10405498,
         1734629826000
        ]
       ],
       "datasetInfos": [],
       "dbfsResultPath": null,
       "isJsonSchema": true,
       "metadata": {},
       "overflow": false,
       "plotOptions": {
        "customPlotOptions": {},
        "displayType": "table",
        "pivotAggregation": null,
        "pivotColumns": null,
        "xColumns": null,
        "yColumns": null
       },
       "removedWidgets": [],
       "schema": [
        {
         "metadata": "{}",
         "name": "path",
         "type": "\"string\""
        },
        {
         "metadata": "{}",
         "name": "name",
         "type": "\"string\""
        },
        {
         "metadata": "{}",
         "name": "size",
         "type": "\"long\""
        },
        {
         "metadata": "{}",
         "name": "modificationTime",
         "type": "\"long\""
        }
       ],
       "type": "table"
      }
     },
     "output_type": "display_data"
    }
   ],
   "source": [
    "%python\n",
    "%fs ls /FileStore/tables/ecommerce_dataset.csv"
   ]
  },
  {
   "cell_type": "code",
   "execution_count": 0,
   "metadata": {
    "application/vnd.databricks.v1+cell": {
     "cellMetadata": {
      "byteLimit": 2048000,
      "rowLimit": 10000
     },
     "inputWidgets": {},
     "nuid": "a05605d0-fdb7-4ef2-b36c-fad81d0cf0a5",
     "showTitle": false,
     "tableResultSettingsMap": {},
     "title": ""
    }
   },
   "outputs": [],
   "source": [
    "ecommercedatadf=spark.read.format(\"csv\").option(\"header\", \"true\").option(\"inferSchema\", \"true\").load(\"/FileStore/tables/ecommerce_dataset.csv\")"
   ]
  },
  {
   "cell_type": "code",
   "execution_count": 0,
   "metadata": {
    "application/vnd.databricks.v1+cell": {
     "cellMetadata": {
      "byteLimit": 2048000,
      "rowLimit": 10000
     },
     "inputWidgets": {},
     "nuid": "ed963eae-24e7-4e36-a681-6915dab33e38",
     "showTitle": false,
     "tableResultSettingsMap": {},
     "title": ""
    }
   },
   "outputs": [
    {
     "output_type": "stream",
     "name": "stdout",
     "output_type": "stream",
     "text": [
      "+----------+---------------+---------------+-------+--------+--------+-----------+-----------+------------------+--------------------+---------------+-------------+---------------+-----------+-----------+----------------+\n|Product ID|   Product Name|       Category|  Price|Discount|Tax Rate|Stock Level|Supplier ID|Customer Age Group|   Customer Location|Customer Gender|Shipping Cost|Shipping Method|Return Rate|Seasonality|Popularity Index|\n+----------+---------------+---------------+-------+--------+--------+-----------+-----------+------------------+--------------------+---------------+-------------+---------------+-----------+-----------+----------------+\n|     P6879|         Jacket|        Apparel|  53.85|       5|      15|        150|       S535|             35-44|       New York, USA|           Male|        23.32|       Standard|       4.49|        Yes|              56|\n|     P5132|         Camera|    Electronics| 761.26|      10|      15|        224|       S583|             25-34|          London, UK|         Female|        20.88|      Overnight|      16.11|         No|              79|\n|     P2941|       Sneakers|       Footwear|1756.76|       5|       8|        468|       S118|             25-34|        Tokyo, Japan|     Non-Binary|        16.43|       Standard|       4.93|         No|              40|\n|     P8545|      Cookbooks|          Books| 295.24|      10|      15|         25|       S104|             18-24|       Paris, France|         Female|        27.49|       Standard|       1.31|         No|              93|\n|     P4594|         Camera|    Electronics|  832.0|      10|      12|        340|       S331|                55|        Tokyo, Japan|           Male|        45.93|      Overnight|       4.37|         No|              56|\n|     P1388|    Non-Fiction|          Books| 584.19|      15|       8|        204|       S523|             45-54|           Singapore|         Female|        40.12|        Express|      19.03|         No|              91|\n|     P7313|  Running Shoes|       Footwear|1343.95|       0|      10|        493|       S878|             18-24|   Sydney, Australia|         Female|        35.91|      Overnight|      17.73|        Yes|              41|\n|     P1060|        Blender|Home Appliances|1873.52|       0|      15|        349|       S396|             18-24|        Phoenix, USA|           Male|        46.42|       Standard|       4.79|         No|              60|\n|     P1241|        Fiction|          Books|1586.65|      25|       5|        237|       S183|             35-44|Cape Town, South ...|           Male|         33.1|        Express|       2.55|        Yes|              90|\n|     P9687|          Heels|       Footwear|1975.69|      20|       8|        132|       S672|             18-24|       New York, USA|         Female|         5.25|      Overnight|       16.5|        Yes|              96|\n|     P6094|         Comics|          Books|1657.73|      15|      10|        300|       S501|             45-54|          London, UK|         Female|        28.99|        Express|      10.51|         No|              36|\n|     P3700|        Fiction|          Books| 395.42|       5|      12|        335|       S975|                55|        Houston, USA|         Female|         3.35|      Overnight|      17.12|         No|              66|\n|     P8707|     Smartwatch|    Electronics|1915.09|      20|       8|        332|       S640|             35-44|           Singapore|     Non-Binary|        15.14|       Standard|        3.5|         No|              57|\n|     P3045|        Fiction|          Books|1345.42|      15|      15|        150|       S204|                55|Cape Town, South ...|     Non-Binary|        14.25|       Standard|      19.77|        Yes|              35|\n|     P2019|   Hiking Shoes|       Footwear| 302.74|      25|      12|        456|       S194|             45-54|     Toronto, Canada|         Female|         44.1|       Standard|       7.05|         No|               3|\n|     P5172|Washing Machine|Home Appliances| 204.73|       5|      15|        112|       S597|             25-34|          London, UK|         Female|        10.03|      Overnight|      17.74|         No|              27|\n|     P2766|          Boots|       Footwear|1961.39|      25|      15|        420|       S732|             35-44|        Chicago, USA|     Non-Binary|         1.68|      Overnight|      11.08|         No|              92|\n|     P2339|      Textbooks|          Books| 812.75|      20|      15|        180|       S702|             35-44|     Berlin, Germany|     Non-Binary|          2.4|        Express|      10.33|        Yes|              72|\n|     P7834|          Boots|       Footwear| 713.69|      15|      10|        485|       S328|             45-54|           Singapore|           Male|        36.33|      Overnight|       1.95|        Yes|              64|\n|     P9427|        Monitor|    Electronics|1473.42|       0|      12|        440|       S689|             35-44|        Houston, USA|         Female|        20.31|        Express|      16.78|        Yes|              98|\n+----------+---------------+---------------+-------+--------+--------+-----------+-----------+------------------+--------------------+---------------+-------------+---------------+-----------+-----------+----------------+\nonly showing top 20 rows\n\n"
     ]
    }
   ],
   "source": [
    "ecommercedatadf.show()"
   ]
  },
  {
   "cell_type": "code",
   "execution_count": 0,
   "metadata": {
    "application/vnd.databricks.v1+cell": {
     "cellMetadata": {
      "byteLimit": 2048000,
      "rowLimit": 10000
     },
     "inputWidgets": {},
     "nuid": "3eb388ea-8873-4638-8fb7-35953a202f44",
     "showTitle": false,
     "tableResultSettingsMap": {},
     "title": ""
    }
   },
   "outputs": [
    {
     "output_type": "stream",
     "name": "stdout",
     "output_type": "stream",
     "text": [
      "root\n |-- Product_ID: string (nullable = true)\n |-- Product_Name: string (nullable = true)\n |-- Category: string (nullable = true)\n |-- Price: double (nullable = true)\n |-- Discount: integer (nullable = true)\n |-- Tax_Rate: integer (nullable = true)\n |-- Stock_Level: integer (nullable = true)\n |-- Supplier_ID: string (nullable = true)\n |-- Customer_Age_Group: string (nullable = true)\n |-- Customer_Location: string (nullable = true)\n |-- Customer_Gender: string (nullable = true)\n |-- Shipping_Cost: double (nullable = true)\n |-- Shipping_Method: string (nullable = true)\n |-- Return_Rate: double (nullable = true)\n |-- Seasonality: string (nullable = true)\n |-- Popularity_Index: integer (nullable = true)\n\nRaw data saved to Bronze Layer!\n"
     ]
    }
   ],
   "source": [
    "# Replace invalid characters in column names\n",
    "cleaned_columns = [col.strip().replace(\" \", \"_\").replace(\".\", \"_\") for col in ecommercedatadf.columns]\n",
    "ecommercedatadf = ecommercedatadf.toDF(*cleaned_columns)\n",
    "\n",
    "# Show the updated schema\n",
    "ecommercedatadf.printSchema()\n",
    "\n",
    "# Save raw data as a Delta table\n",
    "ecommercedatadf.write.format(\"delta\").mode(\"overwrite\").saveAsTable(\"ecommerce_bronze\")\n",
    "print(\"Raw data saved to Bronze Layer!\")"
   ]
  },
  {
   "cell_type": "markdown",
   "metadata": {
    "application/vnd.databricks.v1+cell": {
     "cellMetadata": {},
     "inputWidgets": {},
     "nuid": "5a4f893e-7f77-49c7-8d3b-5b357383d222",
     "showTitle": false,
     "tableResultSettingsMap": {},
     "title": ""
    }
   },
   "source": [
    "### Bronze"
   ]
  },
  {
   "cell_type": "code",
   "execution_count": 0,
   "metadata": {
    "application/vnd.databricks.v1+cell": {
     "cellMetadata": {
      "byteLimit": 2048000,
      "rowLimit": 10000
     },
     "inputWidgets": {},
     "nuid": "9ea6b21a-7edc-4580-bebe-d92cf660ab40",
     "showTitle": false,
     "tableResultSettingsMap": {},
     "title": ""
    }
   },
   "outputs": [
    {
     "output_type": "stream",
     "name": "stdout",
     "output_type": "stream",
     "text": [
      "+----------+-------------+---------------+-------+--------+--------+-----------+-----------+------------------+--------------------+---------------+-------------+---------------+-----------+-----------+----------------+\n|Product_ID| Product_Name|       Category|  Price|Discount|Tax_Rate|Stock_Level|Supplier_ID|Customer_Age_Group|   Customer_Location|Customer_Gender|Shipping_Cost|Shipping_Method|Return_Rate|Seasonality|Popularity_Index|\n+----------+-------------+---------------+-------+--------+--------+-----------+-----------+------------------+--------------------+---------------+-------------+---------------+-----------+-----------+----------------+\n|     P6879|       Jacket|        Apparel|  53.85|       5|      15|        150|       S535|             35-44|       New York, USA|           Male|        23.32|       Standard|       4.49|        Yes|              56|\n|     P5132|       Camera|    Electronics| 761.26|      10|      15|        224|       S583|             25-34|          London, UK|         Female|        20.88|      Overnight|      16.11|         No|              79|\n|     P2941|     Sneakers|       Footwear|1756.76|       5|       8|        468|       S118|             25-34|        Tokyo, Japan|     Non-Binary|        16.43|       Standard|       4.93|         No|              40|\n|     P8545|    Cookbooks|          Books| 295.24|      10|      15|         25|       S104|             18-24|       Paris, France|         Female|        27.49|       Standard|       1.31|         No|              93|\n|     P4594|       Camera|    Electronics|  832.0|      10|      12|        340|       S331|                55|        Tokyo, Japan|           Male|        45.93|      Overnight|       4.37|         No|              56|\n|     P1388|  Non-Fiction|          Books| 584.19|      15|       8|        204|       S523|             45-54|           Singapore|         Female|        40.12|        Express|      19.03|         No|              91|\n|     P7313|Running Shoes|       Footwear|1343.95|       0|      10|        493|       S878|             18-24|   Sydney, Australia|         Female|        35.91|      Overnight|      17.73|        Yes|              41|\n|     P1060|      Blender|Home Appliances|1873.52|       0|      15|        349|       S396|             18-24|        Phoenix, USA|           Male|        46.42|       Standard|       4.79|         No|              60|\n|     P1241|      Fiction|          Books|1586.65|      25|       5|        237|       S183|             35-44|Cape Town, South ...|           Male|         33.1|        Express|       2.55|        Yes|              90|\n|     P9687|        Heels|       Footwear|1975.69|      20|       8|        132|       S672|             18-24|       New York, USA|         Female|         5.25|      Overnight|       16.5|        Yes|              96|\n+----------+-------------+---------------+-------+--------+--------+-----------+-----------+------------------+--------------------+---------------+-------------+---------------+-----------+-----------+----------------+\n\n"
     ]
    }
   ],
   "source": [
    "# Query the Bronze Layer Delta table and display the first 10 rows\n",
    "bronze_layer_data = spark.sql(\"SELECT * FROM ecommerce_bronze LIMIT 10\")\n",
    "\n",
    "bronze_layer_data.show()\n"
   ]
  },
  {
   "cell_type": "markdown",
   "metadata": {
    "application/vnd.databricks.v1+cell": {
     "cellMetadata": {},
     "inputWidgets": {},
     "nuid": "31c4885e-7eac-419e-a32b-e895bd0fe890",
     "showTitle": false,
     "tableResultSettingsMap": {},
     "title": ""
    }
   },
   "source": [
    "### Silver"
   ]
  },
  {
   "cell_type": "code",
   "execution_count": 0,
   "metadata": {
    "application/vnd.databricks.v1+cell": {
     "cellMetadata": {
      "byteLimit": 2048000,
      "rowLimit": 10000
     },
     "inputWidgets": {},
     "nuid": "de39276a-a4d0-4467-aa62-d03ac6a22f2f",
     "showTitle": false,
     "tableResultSettingsMap": {},
     "title": ""
    }
   },
   "outputs": [
    {
     "output_type": "stream",
     "name": "stdout",
     "output_type": "stream",
     "text": [
      "+----------+---------------+---------------+-------+--------+--------+-----------+-----------+------------------+--------------------+---------------+-------------+---------------+-----------+-----------+----------------+\n|Product_ID|   Product_Name|       Category|  Price|Discount|Tax_Rate|Stock_Level|Supplier_ID|Customer_Age_Group|   Customer_Location|Customer_Gender|Shipping_Cost|Shipping_Method|Return_Rate|Seasonality|Popularity_Index|\n+----------+---------------+---------------+-------+--------+--------+-----------+-----------+------------------+--------------------+---------------+-------------+---------------+-----------+-----------+----------------+\n|     P6879|         Jacket|        Apparel|  53.85|       5|      15|        150|       S535|             35-44|       New York, USA|           Male|        23.32|       Standard|       4.49|        Yes|              56|\n|     P5132|         Camera|    Electronics| 761.26|      10|      15|        224|       S583|             25-34|          London, UK|         Female|        20.88|      Overnight|      16.11|         No|              79|\n|     P2941|       Sneakers|       Footwear|1756.76|       5|       8|        468|       S118|             25-34|        Tokyo, Japan|     Non-Binary|        16.43|       Standard|       4.93|         No|              40|\n|     P8545|      Cookbooks|          Books| 295.24|      10|      15|         25|       S104|             18-24|       Paris, France|         Female|        27.49|       Standard|       1.31|         No|              93|\n|     P4594|         Camera|    Electronics|  832.0|      10|      12|        340|       S331|                55|        Tokyo, Japan|           Male|        45.93|      Overnight|       4.37|         No|              56|\n|     P1388|    Non-Fiction|          Books| 584.19|      15|       8|        204|       S523|             45-54|           Singapore|         Female|        40.12|        Express|      19.03|         No|              91|\n|     P7313|  Running Shoes|       Footwear|1343.95|       0|      10|        493|       S878|             18-24|   Sydney, Australia|         Female|        35.91|      Overnight|      17.73|        Yes|              41|\n|     P1060|        Blender|Home Appliances|1873.52|       0|      15|        349|       S396|             18-24|        Phoenix, USA|           Male|        46.42|       Standard|       4.79|         No|              60|\n|     P1241|        Fiction|          Books|1586.65|      25|       5|        237|       S183|             35-44|Cape Town, South ...|           Male|         33.1|        Express|       2.55|        Yes|              90|\n|     P9687|          Heels|       Footwear|1975.69|      20|       8|        132|       S672|             18-24|       New York, USA|         Female|         5.25|      Overnight|       16.5|        Yes|              96|\n|     P6094|         Comics|          Books|1657.73|      15|      10|        300|       S501|             45-54|          London, UK|         Female|        28.99|        Express|      10.51|         No|              36|\n|     P3700|        Fiction|          Books| 395.42|       5|      12|        335|       S975|                55|        Houston, USA|         Female|         3.35|      Overnight|      17.12|         No|              66|\n|     P8707|     Smartwatch|    Electronics|1915.09|      20|       8|        332|       S640|             35-44|           Singapore|     Non-Binary|        15.14|       Standard|        3.5|         No|              57|\n|     P3045|        Fiction|          Books|1345.42|      15|      15|        150|       S204|                55|Cape Town, South ...|     Non-Binary|        14.25|       Standard|      19.77|        Yes|              35|\n|     P2019|   Hiking Shoes|       Footwear| 302.74|      25|      12|        456|       S194|             45-54|     Toronto, Canada|         Female|         44.1|       Standard|       7.05|         No|               3|\n|     P5172|Washing Machine|Home Appliances| 204.73|       5|      15|        112|       S597|             25-34|          London, UK|         Female|        10.03|      Overnight|      17.74|         No|              27|\n|     P2766|          Boots|       Footwear|1961.39|      25|      15|        420|       S732|             35-44|        Chicago, USA|     Non-Binary|         1.68|      Overnight|      11.08|         No|              92|\n|     P2339|      Textbooks|          Books| 812.75|      20|      15|        180|       S702|             35-44|     Berlin, Germany|     Non-Binary|          2.4|        Express|      10.33|        Yes|              72|\n|     P7834|          Boots|       Footwear| 713.69|      15|      10|        485|       S328|             45-54|           Singapore|           Male|        36.33|      Overnight|       1.95|        Yes|              64|\n|     P9427|        Monitor|    Electronics|1473.42|       0|      12|        440|       S689|             35-44|        Houston, USA|         Female|        20.31|        Express|      16.78|        Yes|              98|\n+----------+---------------+---------------+-------+--------+--------+-----------+-----------+------------------+--------------------+---------------+-------------+---------------+-----------+-----------+----------------+\nonly showing top 20 rows\n\nCleaned data saved to Silver Layer!\n"
     ]
    }
   ],
   "source": [
    "from pyspark.sql.functions import col\n",
    "\n",
    "# Clean the data\n",
    "cleaned_data = ecommercedatadf \\\n",
    "    .filter((col(\"Price\").isNotNull()) & (col(\"Stock_Level\").isNotNull())) \\\n",
    "    .filter((col(\"Price\") > 0) & (col(\"Stock_Level\") > 0)) \\\n",
    "    .withColumn(\"Price\", col(\"Price\").cast(\"double\")) \\\n",
    "    .withColumn(\"Stock_Level\", col(\"Stock_Level\").cast(\"int\"))\n",
    "\n",
    "# Show the cleaned data\n",
    "cleaned_data.show()\n",
    "\n",
    "# Save cleaned data as Delta table\n",
    "cleaned_data.write.format(\"delta\").mode(\"overwrite\").saveAsTable(\"ecommerce_silver\")\n",
    "print(\"Cleaned data saved to Silver Layer!\")"
   ]
  },
  {
   "cell_type": "markdown",
   "metadata": {
    "application/vnd.databricks.v1+cell": {
     "cellMetadata": {},
     "inputWidgets": {},
     "nuid": "b5b0bcdd-934f-4062-9535-c99df0aa67af",
     "showTitle": false,
     "tableResultSettingsMap": {},
     "title": ""
    }
   },
   "source": [
    "### **Gold Layer**\n",
    "Perform aggregations to create meaningful datasets and save them as Delta tables.\n",
    "\n",
    "Total Sales by Category"
   ]
  },
  {
   "cell_type": "code",
   "execution_count": 0,
   "metadata": {
    "application/vnd.databricks.v1+cell": {
     "cellMetadata": {
      "byteLimit": 2048000,
      "rowLimit": 10000
     },
     "inputWidgets": {},
     "nuid": "7734c02c-8b86-4442-8c02-24513e85cb07",
     "showTitle": false,
     "tableResultSettingsMap": {},
     "title": ""
    }
   },
   "outputs": [
    {
     "output_type": "stream",
     "name": "stdout",
     "output_type": "stream",
     "text": [
      "Total Sales by Category saved to Gold Layer!\n+---------------+--------------------+\n|       Category|         Total_Sales|\n+---------------+--------------------+\n|        Apparel|2.0063856269999962E7|\n|    Electronics| 2.010186938999998E7|\n|       Footwear|2.0161514950000018E7|\n|          Books|2.0276547950000018E7|\n|Home Appliances|1.9960686890000023E7|\n+---------------+--------------------+\n\n"
     ]
    }
   ],
   "source": [
    "# Total sales by category\n",
    "total_sales_by_category = cleaned_data.groupBy(\"Category\") \\\n",
    "    .agg({\"Price\": \"sum\"}) \\\n",
    "    .withColumnRenamed(\"sum(Price)\", \"Total_Sales\")\n",
    "\n",
    "# Save as Delta table\n",
    "total_sales_by_category.write.format(\"delta\").mode(\"overwrite\").saveAsTable(\"total_sales_by_category\")\n",
    "print(\"Total Sales by Category saved to Gold Layer!\")\n",
    "total_sales_by_category.show()"
   ]
  },
  {
   "cell_type": "markdown",
   "metadata": {
    "application/vnd.databricks.v1+cell": {
     "cellMetadata": {},
     "inputWidgets": {},
     "nuid": "ac76e6e3-2ace-4907-825d-5cddfed00656",
     "showTitle": false,
     "tableResultSettingsMap": {},
     "title": ""
    }
   },
   "source": [
    "### Average Price by Category"
   ]
  },
  {
   "cell_type": "code",
   "execution_count": 0,
   "metadata": {
    "application/vnd.databricks.v1+cell": {
     "cellMetadata": {
      "byteLimit": 2048000,
      "rowLimit": 10000
     },
     "inputWidgets": {},
     "nuid": "44d8fda0-45f1-4978-9633-6483b093bb12",
     "showTitle": false,
     "tableResultSettingsMap": {},
     "title": ""
    }
   },
   "outputs": [
    {
     "output_type": "stream",
     "name": "stdout",
     "output_type": "stream",
     "text": [
      "+---------------+------------------+\n|       Category|         Avg_Price|\n+---------------+------------------+\n|        Apparel|1001.6902780828738|\n|    Electronics|1009.3833487321103|\n|       Footwear|1004.7099691035041|\n|          Books|1009.6374022805367|\n|Home Appliances|1012.9757366150735|\n+---------------+------------------+\n\n"
     ]
    }
   ],
   "source": [
    "# Average price by category\n",
    "avg_price_by_category = cleaned_data.groupBy(\"Category\") \\\n",
    "    .agg({\"Price\": \"avg\"}) \\\n",
    "    .withColumnRenamed(\"avg(Price)\", \"Avg_Price\")\n",
    "\n",
    "# Save as Delta table\n",
    "avg_price_by_category.write.format(\"delta\").mode(\"overwrite\").saveAsTable(\"avg_price_by_category\")\n",
    "avg_price_by_category.show()\n"
   ]
  },
  {
   "cell_type": "markdown",
   "metadata": {
    "application/vnd.databricks.v1+cell": {
     "cellMetadata": {},
     "inputWidgets": {},
     "nuid": "437f4066-19a0-42d2-b7fd-a2d1e004e70f",
     "showTitle": false,
     "tableResultSettingsMap": {},
     "title": ""
    }
   },
   "source": [
    "### Total Quantity Sold by Shipping Method"
   ]
  },
  {
   "cell_type": "code",
   "execution_count": 0,
   "metadata": {
    "application/vnd.databricks.v1+cell": {
     "cellMetadata": {
      "byteLimit": 2048000,
      "rowLimit": 10000
     },
     "inputWidgets": {},
     "nuid": "c1f50aba-fbdf-4b3c-805c-15864d5a264c",
     "showTitle": false,
     "tableResultSettingsMap": {},
     "title": ""
    }
   },
   "outputs": [
    {
     "output_type": "stream",
     "name": "stdout",
     "output_type": "stream",
     "text": [
      "+---------------+--------------+\n|Shipping_Method|Total_Quantity|\n+---------------+--------------+\n|        Express|       8292172|\n|      Overnight|       8339453|\n|       Standard|       8373928|\n+---------------+--------------+\n\n"
     ]
    }
   ],
   "source": [
    "# Total quantity sold by shipping method\n",
    "total_quantity_by_shipping = cleaned_data.groupBy(\"Shipping_Method\") \\\n",
    "    .agg({\"Stock_Level\": \"sum\"}) \\\n",
    "    .withColumnRenamed(\"sum(Stock_Level)\", \"Total_Quantity\")\n",
    "\n",
    "# Save as Delta table\n",
    "total_quantity_by_shipping.write.format(\"delta\").mode(\"overwrite\").saveAsTable(\"total_quantity_by_shipping\")\n",
    "total_quantity_by_shipping.show()"
   ]
  },
  {
   "cell_type": "markdown",
   "metadata": {
    "application/vnd.databricks.v1+cell": {
     "cellMetadata": {},
     "inputWidgets": {},
     "nuid": "64aefd20-ad91-409b-b895-22127372ecfb",
     "showTitle": false,
     "tableResultSettingsMap": {},
     "title": ""
    }
   },
   "source": [
    "### Monthly Sales Trends"
   ]
  },
  {
   "cell_type": "code",
   "execution_count": 0,
   "metadata": {
    "application/vnd.databricks.v1+cell": {
     "cellMetadata": {
      "byteLimit": 2048000,
      "rowLimit": 10000
     },
     "inputWidgets": {},
     "nuid": "aaa0d0dc-c542-48d1-870e-b2c541485882",
     "showTitle": false,
     "tableResultSettingsMap": {},
     "title": ""
    }
   },
   "outputs": [
    {
     "output_type": "stream",
     "name": "stdout",
     "output_type": "stream",
     "text": [
      "+-----+-------------------+\n|Month|        Total_Sales|\n+-----+-------------------+\n|   12|1.005644754499997E8|\n+-----+-------------------+\n\n"
     ]
    }
   ],
   "source": [
    "from pyspark.sql.functions import month, current_timestamp\n",
    "\n",
    "# Add a synthetic timestamp column if missing\n",
    "cleaned_data_with_date = cleaned_data.withColumn(\"Order_Date\", current_timestamp())\n",
    "\n",
    "# Monthly sales trends\n",
    "monthly_sales = cleaned_data_with_date.withColumn(\"Month\", month(col(\"Order_Date\"))) \\\n",
    "    .groupBy(\"Month\") \\\n",
    "    .agg({\"Price\": \"sum\"}) \\\n",
    "    .withColumnRenamed(\"sum(Price)\", \"Total_Sales\")\n",
    "\n",
    "# Save as Delta table\n",
    "monthly_sales.write.format(\"delta\").mode(\"overwrite\").saveAsTable(\"monthly_sales\")\n",
    "monthly_sales.show()"
   ]
  },
  {
   "cell_type": "markdown",
   "metadata": {
    "application/vnd.databricks.v1+cell": {
     "cellMetadata": {},
     "inputWidgets": {},
     "nuid": "9713eb8a-efad-4c75-be29-dfc1fb29b86c",
     "showTitle": false,
     "tableResultSettingsMap": {},
     "title": ""
    }
   },
   "source": [
    "### Verifying Layers\n",
    "#### Bronze Layer"
   ]
  },
  {
   "cell_type": "code",
   "execution_count": 0,
   "metadata": {
    "application/vnd.databricks.v1+cell": {
     "cellMetadata": {
      "byteLimit": 2048000,
      "rowLimit": 10000
     },
     "inputWidgets": {},
     "nuid": "2100c072-2974-49cc-b9e6-e6ada479eb74",
     "showTitle": false,
     "tableResultSettingsMap": {},
     "title": ""
    }
   },
   "outputs": [
    {
     "output_type": "stream",
     "name": "stdout",
     "output_type": "stream",
     "text": [
      "+----------+-------------+---------------+-------+--------+--------+-----------+-----------+------------------+-----------------------+---------------+-------------+---------------+-----------+-----------+----------------+\n|Product_ID|Product_Name |Category       |Price  |Discount|Tax_Rate|Stock_Level|Supplier_ID|Customer_Age_Group|Customer_Location      |Customer_Gender|Shipping_Cost|Shipping_Method|Return_Rate|Seasonality|Popularity_Index|\n+----------+-------------+---------------+-------+--------+--------+-----------+-----------+------------------+-----------------------+---------------+-------------+---------------+-----------+-----------+----------------+\n|P6879     |Jacket       |Apparel        |53.85  |5       |15      |150        |S535       |35-44             |New York, USA          |Male           |23.32        |Standard       |4.49       |Yes        |56              |\n|P5132     |Camera       |Electronics    |761.26 |10      |15      |224        |S583       |25-34             |London, UK             |Female         |20.88        |Overnight      |16.11      |No         |79              |\n|P2941     |Sneakers     |Footwear       |1756.76|5       |8       |468        |S118       |25-34             |Tokyo, Japan           |Non-Binary     |16.43        |Standard       |4.93       |No         |40              |\n|P8545     |Cookbooks    |Books          |295.24 |10      |15      |25         |S104       |18-24             |Paris, France          |Female         |27.49        |Standard       |1.31       |No         |93              |\n|P4594     |Camera       |Electronics    |832.0  |10      |12      |340        |S331       |55                |Tokyo, Japan           |Male           |45.93        |Overnight      |4.37       |No         |56              |\n|P1388     |Non-Fiction  |Books          |584.19 |15      |8       |204        |S523       |45-54             |Singapore              |Female         |40.12        |Express        |19.03      |No         |91              |\n|P7313     |Running Shoes|Footwear       |1343.95|0       |10      |493        |S878       |18-24             |Sydney, Australia      |Female         |35.91        |Overnight      |17.73      |Yes        |41              |\n|P1060     |Blender      |Home Appliances|1873.52|0       |15      |349        |S396       |18-24             |Phoenix, USA           |Male           |46.42        |Standard       |4.79       |No         |60              |\n|P1241     |Fiction      |Books          |1586.65|25      |5       |237        |S183       |35-44             |Cape Town, South Africa|Male           |33.1         |Express        |2.55       |Yes        |90              |\n|P9687     |Heels        |Footwear       |1975.69|20      |8       |132        |S672       |18-24             |New York, USA          |Female         |5.25         |Overnight      |16.5       |Yes        |96              |\n+----------+-------------+---------------+-------+--------+--------+-----------+-----------+------------------+-----------------------+---------------+-------------+---------------+-----------+-----------+----------------+\nonly showing top 10 rows\n\n"
     ]
    }
   ],
   "source": [
    "bronze_layer_data = spark.sql(\"SELECT * FROM ecommerce_bronze\")\n",
    "bronze_layer_data.show(10, truncate=False)"
   ]
  },
  {
   "cell_type": "markdown",
   "metadata": {
    "application/vnd.databricks.v1+cell": {
     "cellMetadata": {},
     "inputWidgets": {},
     "nuid": "3f477014-7d65-44d9-8ffb-9f479b373eff",
     "showTitle": false,
     "tableResultSettingsMap": {},
     "title": ""
    }
   },
   "source": [
    "### Verifying Layers\n",
    "#### Silver Layer"
   ]
  },
  {
   "cell_type": "code",
   "execution_count": 0,
   "metadata": {
    "application/vnd.databricks.v1+cell": {
     "cellMetadata": {
      "byteLimit": 2048000,
      "rowLimit": 10000
     },
     "inputWidgets": {},
     "nuid": "9e844bd1-8bad-46a5-83ff-20438b08ebc9",
     "showTitle": false,
     "tableResultSettingsMap": {},
     "title": ""
    }
   },
   "outputs": [
    {
     "output_type": "stream",
     "name": "stdout",
     "output_type": "stream",
     "text": [
      "+----------+-------------+---------------+-------+--------+--------+-----------+-----------+------------------+-----------------------+---------------+-------------+---------------+-----------+-----------+----------------+\n|Product_ID|Product_Name |Category       |Price  |Discount|Tax_Rate|Stock_Level|Supplier_ID|Customer_Age_Group|Customer_Location      |Customer_Gender|Shipping_Cost|Shipping_Method|Return_Rate|Seasonality|Popularity_Index|\n+----------+-------------+---------------+-------+--------+--------+-----------+-----------+------------------+-----------------------+---------------+-------------+---------------+-----------+-----------+----------------+\n|P6879     |Jacket       |Apparel        |53.85  |5       |15      |150        |S535       |35-44             |New York, USA          |Male           |23.32        |Standard       |4.49       |Yes        |56              |\n|P5132     |Camera       |Electronics    |761.26 |10      |15      |224        |S583       |25-34             |London, UK             |Female         |20.88        |Overnight      |16.11      |No         |79              |\n|P2941     |Sneakers     |Footwear       |1756.76|5       |8       |468        |S118       |25-34             |Tokyo, Japan           |Non-Binary     |16.43        |Standard       |4.93       |No         |40              |\n|P8545     |Cookbooks    |Books          |295.24 |10      |15      |25         |S104       |18-24             |Paris, France          |Female         |27.49        |Standard       |1.31       |No         |93              |\n|P4594     |Camera       |Electronics    |832.0  |10      |12      |340        |S331       |55                |Tokyo, Japan           |Male           |45.93        |Overnight      |4.37       |No         |56              |\n|P1388     |Non-Fiction  |Books          |584.19 |15      |8       |204        |S523       |45-54             |Singapore              |Female         |40.12        |Express        |19.03      |No         |91              |\n|P7313     |Running Shoes|Footwear       |1343.95|0       |10      |493        |S878       |18-24             |Sydney, Australia      |Female         |35.91        |Overnight      |17.73      |Yes        |41              |\n|P1060     |Blender      |Home Appliances|1873.52|0       |15      |349        |S396       |18-24             |Phoenix, USA           |Male           |46.42        |Standard       |4.79       |No         |60              |\n|P1241     |Fiction      |Books          |1586.65|25      |5       |237        |S183       |35-44             |Cape Town, South Africa|Male           |33.1         |Express        |2.55       |Yes        |90              |\n|P9687     |Heels        |Footwear       |1975.69|20      |8       |132        |S672       |18-24             |New York, USA          |Female         |5.25         |Overnight      |16.5       |Yes        |96              |\n+----------+-------------+---------------+-------+--------+--------+-----------+-----------+------------------+-----------------------+---------------+-------------+---------------+-----------+-----------+----------------+\nonly showing top 10 rows\n\n"
     ]
    }
   ],
   "source": [
    "silver_layer_data = spark.sql(\"SELECT * FROM ecommerce_silver\")\n",
    "silver_layer_data.show(10, truncate=False)"
   ]
  },
  {
   "cell_type": "markdown",
   "metadata": {
    "application/vnd.databricks.v1+cell": {
     "cellMetadata": {},
     "inputWidgets": {},
     "nuid": "1451015f-d74a-4aa2-8c57-98c21748f0b5",
     "showTitle": false,
     "tableResultSettingsMap": {},
     "title": ""
    }
   },
   "source": [
    "### Verifying Layers\n",
    "#### Gold Layers"
   ]
  },
  {
   "cell_type": "code",
   "execution_count": 0,
   "metadata": {
    "application/vnd.databricks.v1+cell": {
     "cellMetadata": {
      "byteLimit": 2048000,
      "rowLimit": 10000
     },
     "inputWidgets": {},
     "nuid": "2b3cd6cf-87a3-4ed5-a547-1aecc0bccad5",
     "showTitle": false,
     "tableResultSettingsMap": {},
     "title": ""
    }
   },
   "outputs": [
    {
     "output_type": "stream",
     "name": "stdout",
     "output_type": "stream",
     "text": [
      "+---------------+--------------------+\n|Category       |Total_Sales         |\n+---------------+--------------------+\n|Apparel        |2.0063856269999962E7|\n|Electronics    |2.010186938999998E7 |\n|Footwear       |2.0161514950000018E7|\n|Books          |2.0276547950000018E7|\n|Home Appliances|1.9960686890000023E7|\n+---------------+--------------------+\n\n"
     ]
    }
   ],
   "source": [
    "gold_layer_data = spark.sql(\"SELECT * FROM total_sales_by_category\")\n",
    "gold_layer_data.show(10, truncate=False)"
   ]
  },
  {
   "cell_type": "code",
   "execution_count": 0,
   "metadata": {
    "application/vnd.databricks.v1+cell": {
     "cellMetadata": {
      "byteLimit": 2048000,
      "rowLimit": 10000
     },
     "inputWidgets": {},
     "nuid": "57c7cfd2-f193-4f93-99af-10bc29e70138",
     "showTitle": false,
     "tableResultSettingsMap": {},
     "title": ""
    }
   },
   "outputs": [
    {
     "output_type": "stream",
     "name": "stdout",
     "output_type": "stream",
     "text": [
      "+-----+-------------------+\n|Month|Total_Sales        |\n+-----+-------------------+\n|12   |1.005644754499997E8|\n+-----+-------------------+\n\n"
     ]
    }
   ],
   "source": [
    "gold_layer_data = spark.sql(\"SELECT * FROM monthly_sales\")\n",
    "gold_layer_data.show(10, truncate=False)"
   ]
  },
  {
   "cell_type": "code",
   "execution_count": 0,
   "metadata": {
    "application/vnd.databricks.v1+cell": {
     "cellMetadata": {
      "byteLimit": 2048000,
      "rowLimit": 10000
     },
     "inputWidgets": {},
     "nuid": "1e72f052-59af-4db0-a73e-2688c0fb97ba",
     "showTitle": false,
     "tableResultSettingsMap": {},
     "title": ""
    }
   },
   "outputs": [
    {
     "output_type": "stream",
     "name": "stdout",
     "output_type": "stream",
     "text": [
      "+---------------+--------------+\n|Shipping_Method|Total_Quantity|\n+---------------+--------------+\n|Express        |8292172       |\n|Overnight      |8339453       |\n|Standard       |8373928       |\n+---------------+--------------+\n\n"
     ]
    }
   ],
   "source": [
    "gold_layer_data = spark.sql(\"SELECT * FROM total_quantity_by_shipping\")\n",
    "gold_layer_data.show(10, truncate=False)"
   ]
  },
  {
   "cell_type": "markdown",
   "metadata": {
    "application/vnd.databricks.v1+cell": {
     "cellMetadata": {},
     "inputWidgets": {},
     "nuid": "1900e78f-519a-4d0c-9196-e75f24ba3c34",
     "showTitle": false,
     "tableResultSettingsMap": {},
     "title": ""
    }
   },
   "source": [
    "### Machine learning Model to Predict Stock Levels (Regression model)\n",
    "#### Objective: To Predict the Stock_Level for a product based on features like Price, Discount, and Tax_Rate."
   ]
  },
  {
   "cell_type": "code",
   "execution_count": 0,
   "metadata": {
    "application/vnd.databricks.v1+cell": {
     "cellMetadata": {
      "byteLimit": 2048000,
      "rowLimit": 10000
     },
     "inputWidgets": {},
     "nuid": "799db975-1fc2-48b1-b263-4baee15a1555",
     "showTitle": false,
     "tableResultSettingsMap": {},
     "title": ""
    }
   },
   "outputs": [
    {
     "output_type": "display_data",
     "data": {
      "application/vnd.jupyter.widget-view+json": {
       "model_id": "517f19619ac44bceb2ac4a8de45f3af8",
       "version_major": 2,
       "version_minor": 0
      },
      "text/plain": [
       "Downloading artifacts:   0%|          | 0/15 [00:00<?, ?it/s]"
      ]
     },
     "metadata": {},
     "output_type": "display_data"
    },
    {
     "output_type": "display_data",
     "data": {
      "application/vnd.jupyter.widget-view+json": {
       "model_id": "41f8fb7da91344b49bcbbc2f109d8781",
       "version_major": 2,
       "version_minor": 0
      },
      "text/plain": [
       "Uploading artifacts:   0%|          | 0/4 [00:00<?, ?it/s]"
      ]
     },
     "metadata": {},
     "output_type": "display_data"
    },
    {
     "output_type": "stream",
     "name": "stdout",
     "output_type": "stream",
     "text": [
      "Root Mean Squared Error (RMSE): 144.1967092226598\n+-----------------+-----------+------------------+\n|features         |Stock_Level|prediction        |\n+-----------------+-----------+------------------+\n|[10.23,25.0,8.0] |207        |249.11485704564956|\n|[10.46,25.0,8.0] |114        |249.11522916082723|\n|[10.58,5.0,8.0]  |480        |248.56769425997706|\n|[10.78,25.0,10.0]|210        |249.72145366904982|\n|[11.23,0.0,12.0] |5          |249.64322719336815|\n|[11.56,10.0,12.0]|312        |249.91762562170322|\n|[11.77,15.0,8.0] |293        |248.84348407549822|\n|[12.14,15.0,12.0]|128        |250.05549626108262|\n|[12.64,15.0,5.0] |225        |247.93633146746808|\n|[12.7,15.0,12.0] |165        |250.05640228064567|\n+-----------------+-----------+------------------+\nonly showing top 10 rows\n\n"
     ]
    }
   ],
   "source": [
    "from pyspark.ml.feature import VectorAssembler\n",
    "from pyspark.ml.regression import LinearRegression\n",
    "from pyspark.ml.evaluation import RegressionEvaluator\n",
    "\n",
    "# Prepare data for regression\n",
    "assembler = VectorAssembler(inputCols=[\"Price\", \"Discount\", \"Tax_Rate\"], outputCol=\"features\")\n",
    "regression_data = assembler.transform(cleaned_data).select(\"features\", \"Stock_Level\")\n",
    "\n",
    "# Split data into training and testing sets\n",
    "train_data, test_data = regression_data.randomSplit([0.8, 0.2], seed=42)\n",
    "\n",
    "# Train Linear Regression model\n",
    "lr = LinearRegression(featuresCol=\"features\", labelCol=\"Stock_Level\")\n",
    "lr_model = lr.fit(train_data)\n",
    "\n",
    "# Evaluate model\n",
    "predictions = lr_model.transform(test_data)\n",
    "evaluator = RegressionEvaluator(labelCol=\"Stock_Level\", predictionCol=\"prediction\", metricName=\"rmse\")\n",
    "rmse = evaluator.evaluate(predictions)\n",
    "\n",
    "print(f\"Root Mean Squared Error (RMSE): {rmse}\")\n",
    "predictions.show(10, truncate=False)"
   ]
  },
  {
   "cell_type": "markdown",
   "metadata": {
    "application/vnd.databricks.v1+cell": {
     "cellMetadata": {},
     "inputWidgets": {},
     "nuid": "f8017915-795b-4176-96ef-f85fbc2ec03a",
     "showTitle": false,
     "tableResultSettingsMap": {},
     "title": ""
    }
   },
   "source": [
    "### Machine Learning Model : TO Classify Products by Popularity (Classification Model)\n",
    "#### Objective:Classify products as \"Popular\" or \"Not Popular\" based on their Popularity_Index."
   ]
  },
  {
   "cell_type": "code",
   "execution_count": 0,
   "metadata": {
    "application/vnd.databricks.v1+cell": {
     "cellMetadata": {
      "byteLimit": 2048000,
      "rowLimit": 10000
     },
     "inputWidgets": {},
     "nuid": "00e726e9-981e-441d-9363-e10897a4f7ba",
     "showTitle": false,
     "tableResultSettingsMap": {},
     "title": ""
    }
   },
   "outputs": [
    {
     "output_type": "display_data",
     "data": {
      "application/vnd.jupyter.widget-view+json": {
       "model_id": "bb395cbf793141dc8f55418ad21b3a1a",
       "version_major": 2,
       "version_minor": 0
      },
      "text/plain": [
       "Downloading artifacts:   0%|          | 0/15 [00:00<?, ?it/s]"
      ]
     },
     "metadata": {},
     "output_type": "display_data"
    },
    {
     "output_type": "display_data",
     "data": {
      "application/vnd.jupyter.widget-view+json": {
       "model_id": "21a042a65f09472cab6eb45b9be83bb8",
       "version_major": 2,
       "version_minor": 0
      },
      "text/plain": [
       "Uploading artifacts:   0%|          | 0/4 [00:00<?, ?it/s]"
      ]
     },
     "metadata": {},
     "output_type": "display_data"
    },
    {
     "output_type": "stream",
     "name": "stdout",
     "output_type": "stream",
     "text": [
      "Accuracy: 0.5021143777688281\n+-----------------------+----------+----------------------------------------------+----------------------------------------+----------+\n|features               |is_popular|rawPrediction                                 |probability                             |prediction|\n+-----------------------+----------+----------------------------------------------+----------------------------------------+----------+\n|[10.23,25.0,8.0,207.0] |1         |[0.009160758245145367,-0.009160758245145367]  |[0.5022901735454588,0.4977098264545412] |0.0       |\n|[10.46,25.0,8.0,114.0] |0         |[0.009531934371093056,-0.009531934371093056]  |[0.5023829655502221,0.4976170344497779] |0.0       |\n|[10.58,5.0,8.0,480.0]  |1         |[-0.010561687068939042,0.010561687068939042]  |[0.49735960277724345,0.5026403972227566]|1.0       |\n|[10.78,25.0,10.0,210.0]|1         |[0.00739821539632827,-0.00739821539632827]    |[0.5018495454130679,0.4981504545869321] |0.0       |\n|[11.23,0.0,12.0,5.0]   |1         |[-0.016798815313672933,0.016798815313672933]  |[0.4958003949318983,0.5041996050681017] |1.0       |\n|[11.56,10.0,12.0,312.0]|1         |[-0.008729998488339009,0.008729998488339009]  |[0.49781751423902365,0.5021824857609763]|1.0       |\n|[11.77,15.0,8.0,293.0] |1         |[-5.162029514218184E-4,5.162029514218184E-4]  |[0.49987094926501013,0.5001290507349898]|1.0       |\n|[12.14,15.0,12.0,128.0]|0         |[-0.0033427282612210085,0.0033427282612210085]|[0.4991643187128415,0.5008356812871585] |1.0       |\n|[12.64,15.0,5.0,225.0] |0         |[0.002359604618498228,-0.002359604618498228]  |[0.5005899008809237,0.4994100991190763] |0.0       |\n|[12.7,15.0,12.0,165.0] |1         |[-0.003499484605559926,0.003499484605559926]  |[0.4991251297414436,0.5008748702585564] |1.0       |\n+-----------------------+----------+----------------------------------------------+----------------------------------------+----------+\nonly showing top 10 rows\n\n"
     ]
    }
   ],
   "source": [
    "from pyspark.ml.classification import LogisticRegression\n",
    "from pyspark.sql.functions import when\n",
    "from pyspark.ml.evaluation import MulticlassClassificationEvaluator\n",
    "\n",
    "# Add binary column for popularity classification\n",
    "classification_data = cleaned_data.withColumn(\"is_popular\", when(col(\"Popularity_Index\") >= 50, 1).otherwise(0))\n",
    "\n",
    "# Prepare features for classification\n",
    "assembler = VectorAssembler(inputCols=[\"Price\", \"Discount\", \"Tax_Rate\", \"Stock_Level\"], outputCol=\"features\")\n",
    "classification_data = assembler.transform(classification_data).select(\"features\", \"is_popular\")\n",
    "\n",
    "# Split data into training and testing sets\n",
    "train_data, test_data = classification_data.randomSplit([0.8, 0.2], seed=42)\n",
    "\n",
    "# Train Logistic Regression model\n",
    "lr = LogisticRegression(featuresCol=\"features\", labelCol=\"is_popular\", maxIter=10)\n",
    "lr_model = lr.fit(train_data)\n",
    "\n",
    "# Evaluate model\n",
    "predictions = lr_model.transform(test_data)\n",
    "\n",
    "# Use MulticlassClassificationEvaluator for accuracy\n",
    "evaluator = MulticlassClassificationEvaluator(labelCol=\"is_popular\", predictionCol=\"prediction\", metricName=\"accuracy\")\n",
    "accuracy = evaluator.evaluate(predictions)\n",
    "\n",
    "print(f\"Accuracy: {accuracy}\")\n",
    "predictions.show(10, truncate=False)"
   ]
  },
  {
   "cell_type": "markdown",
   "metadata": {
    "application/vnd.databricks.v1+cell": {
     "cellMetadata": {},
     "inputWidgets": {},
     "nuid": "1ef01a7f-b48f-4471-9c47-6c0ad9f14896",
     "showTitle": false,
     "tableResultSettingsMap": {},
     "title": ""
    }
   },
   "source": [
    "### Machine Learining Model : Customer Segmentation Using K-Means Clustering\n",
    "#### Objective: Group customers into segments based on features like total revenue, order count, and average order value."
   ]
  },
  {
   "cell_type": "code",
   "execution_count": 0,
   "metadata": {
    "application/vnd.databricks.v1+cell": {
     "cellMetadata": {
      "byteLimit": 2048000,
      "rowLimit": 10000
     },
     "inputWidgets": {},
     "nuid": "a2baa801-1800-4333-b168-e588226b8e70",
     "showTitle": false,
     "tableResultSettingsMap": {},
     "title": ""
    }
   },
   "outputs": [
    {
     "output_type": "display_data",
     "data": {
      "application/vnd.jupyter.widget-view+json": {
       "model_id": "bc5384ba9577497aa706f79fa8e49a59",
       "version_major": 2,
       "version_minor": 0
      },
      "text/plain": [
       "Downloading artifacts:   0%|          | 0/15 [00:00<?, ?it/s]"
      ]
     },
     "metadata": {},
     "output_type": "display_data"
    },
    {
     "output_type": "display_data",
     "data": {
      "application/vnd.jupyter.widget-view+json": {
       "model_id": "8e1799851da74583bbbf11b67aa1190b",
       "version_major": 2,
       "version_minor": 0
      },
      "text/plain": [
       "Uploading artifacts:   0%|          | 0/4 [00:00<?, ?it/s]"
      ]
     },
     "metadata": {},
     "output_type": "display_data"
    },
    {
     "output_type": "stream",
     "name": "stdout",
     "output_type": "stream",
     "text": [
      "+-----------------+--------------------+-----------+------------------+-------+\n|Customer_Location|Total_Revenue       |Order_Count|Avg_Order_Value   |Cluster|\n+-----------------+--------------------+-----------+------------------+-------+\n|Singapore        |1.7024310824700003E9|6695       |1010.3822001493661|0      |\n|Toronto, Canada  |1.672599277999999E9 |6585       |1013.0271556567948|1      |\n|Mumbai, India    |1.669635879249999E9 |6767       |1005.132818087779 |1      |\n|Chicago, USA     |1.693613506369999E9 |6598       |1007.4677826614122|0      |\n|Sydney, Australia|1.654938673480001E9 |6527       |1002.6644921096992|1      |\n|Dubai, UAE       |1.692078486000001E9 |6759       |1005.3609675987568|0      |\n|Phoenix, USA     |1.6739677950999987E9|6643       |1010.5593632394999|1      |\n|London, UK       |1.653133941290001E9 |6514       |1006.0021998771882|1      |\n|Berlin, Germany  |1.667030874180001E9 |6638       |1002.7849789093117|1      |\n|Los Angeles, USA |1.6816780004499977E9|6635       |1013.1032313489078|0      |\n+-----------------+--------------------+-----------+------------------+-------+\nonly showing top 10 rows\n\nSilhouette Score: 0.7126998999023788\n"
     ]
    }
   ],
   "source": [
    "from pyspark.ml.evaluation import ClusteringEvaluator\n",
    "\n",
    "# Step 1: Aggregate data for clustering\n",
    "customer_data = cleaned_data.groupBy(\"Customer_Location\").agg(\n",
    "    expr(\"SUM(Price * Stock_Level) AS Total_Revenue\"),\n",
    "    expr(\"COUNT(*) AS Order_Count\"),\n",
    "    expr(\"AVG(Price) AS Avg_Order_Value\")\n",
    ")\n",
    "\n",
    "# Step 2: Prepare features for clustering\n",
    "assembler = VectorAssembler(inputCols=[\"Total_Revenue\", \"Order_Count\", \"Avg_Order_Value\"], outputCol=\"features\")\n",
    "customer_features = assembler.transform(customer_data)\n",
    "\n",
    "# Step 3: Train K-Means clustering model\n",
    "kmeans = KMeans(featuresCol=\"features\", predictionCol=\"Cluster\", k=3, seed=42)  # k=3 for 3 customer segments\n",
    "kmeans_model = kmeans.fit(customer_features)\n",
    "\n",
    "# Step 4: Assign clusters to customers\n",
    "clustered_customers = kmeans_model.transform(customer_features)\n",
    "\n",
    "# Step 5: Show cluster assignments\n",
    "clustered_customers.select(\"Customer_Location\", \"Total_Revenue\", \"Order_Count\", \"Avg_Order_Value\", \"Cluster\").show(10, truncate=False)\n",
    "\n",
    "# Step 6: Evaluate clustering using Silhouette Score\n",
    "evaluator = ClusteringEvaluator(featuresCol=\"features\", predictionCol=\"Cluster\", metricName=\"silhouette\")\n",
    "silhouette_score = evaluator.evaluate(clustered_customers)\n",
    "print(f\"Silhouette Score: {silhouette_score}\")\n"
   ]
  }
 ],
 "metadata": {
  "application/vnd.databricks.v1+notebook": {
   "computePreferences": null,
   "dashboards": [],
   "environmentMetadata": {
    "base_environment": "",
    "client": "1"
   },
   "language": "python",
   "notebookMetadata": {
    "mostRecentlyExecutedCommandWithImplicitDF": {
     "commandId": -1,
     "dataframes": [
      "_sqldf"
     ]
    },
    "pythonIndentUnit": 4
   },
   "notebookName": "Ecomm_big_data",
   "widgets": {}
  },
  "language_info": {
   "name": "python"
  }
 },
 "nbformat": 4,
 "nbformat_minor": 0
}